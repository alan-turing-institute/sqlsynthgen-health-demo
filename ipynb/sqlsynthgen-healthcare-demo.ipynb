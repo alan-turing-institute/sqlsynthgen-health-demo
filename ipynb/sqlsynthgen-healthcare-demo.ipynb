{
 "cells": [
  {
   "cell_type": "markdown",
   "metadata": {},
   "source": [
    "# Synthetic Data on Healthcare\n",
    "\n",
    "This notebook is a demonstration on how to use SQLSynthGen for generating synthetic data, for a healthcare use case.\n",
    "\n",
    "## Initial Setup"
   ]
  },
  {
   "cell_type": "code",
   "execution_count": 3,
   "metadata": {},
   "outputs": [],
   "source": [
    "from os import chdir\n",
    "\n",
    "HOME_DIRECTORY: str = \"/home/jovyan\"\n",
    "\n",
    "chdir(HOME_DIRECTORY)\n",
    "\n",
    "from lib import healthcare_demo"
   ]
  },
  {
   "cell_type": "markdown",
   "metadata": {},
   "source": [
    "## Check the data\n",
    "\n",
    "Let's take a look at what's stored in the database:"
   ]
  },
  {
   "cell_type": "code",
   "execution_count": 4,
   "metadata": {},
   "outputs": [
    {
     "name": "stdout",
     "output_type": "stream",
     "text": [
      "[(583,)]\n"
     ]
    }
   ],
   "source": [
    "DATABASE_NAME: str = \"db\"\n",
    "\n",
    "_, cursor = healthcare_demo.connect_to_postgress(DATABASE_NAME)\n",
    "\n",
    "cursor.execute(f\"SELECT COUNT(*) FROM indian_liver_patient;\")\n",
    "print(cursor.fetchall())"
   ]
  },
  {
   "cell_type": "code",
   "execution_count": null,
   "metadata": {},
   "outputs": [],
   "source": []
  }
 ],
 "metadata": {
  "kernelspec": {
   "display_name": "base",
   "language": "python",
   "name": "python3"
  },
  "language_info": {
   "codemirror_mode": {
    "name": "ipython",
    "version": 3
   },
   "file_extension": ".py",
   "mimetype": "text/x-python",
   "name": "python",
   "nbconvert_exporter": "python",
   "pygments_lexer": "ipython3",
   "version": "3.10.11"
  }
 },
 "nbformat": 4,
 "nbformat_minor": 2
}
