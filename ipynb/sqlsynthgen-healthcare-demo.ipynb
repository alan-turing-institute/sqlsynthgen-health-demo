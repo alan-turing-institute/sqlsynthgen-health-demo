{
 "cells": [
  {
   "cell_type": "markdown",
   "metadata": {},
   "source": [
    "# Synthetic Data on Healthcare\n",
    "\n",
    "This notebook is a demonstration on how to use SQLSynthGen for generating synthetic data, for a healthcare use case.\n",
    "\n",
    "## Initial Setup"
   ]
  },
  {
   "cell_type": "code",
   "execution_count": 247,
   "metadata": {},
   "outputs": [
    {
     "name": "stdout",
     "output_type": "stream",
     "text": [
      "The autoreload extension is already loaded. To reload it, use:\n",
      "  %reload_ext autoreload\n"
     ]
    }
   ],
   "source": [
    "%load_ext autoreload\n",
    "%autoreload 2\n",
    "\n",
    "from os import chdir\n",
    "\n",
    "HOME_DIRECTORY: str = \"/home/jovyan\"\n",
    "\n",
    "chdir(HOME_DIRECTORY)\n",
    "\n",
    "import seaborn as sns\n",
    "from lib import healthcare_demo"
   ]
  },
  {
   "cell_type": "markdown",
   "metadata": {},
   "source": [
    "## De-Identification\n",
    "\n",
    "Let's take a look at what's stored in the database. The `dataset` column has a value of `1` for patients with liver disease, and a value of `2` for no disease.\n",
    "\n",
    "Notice no name, address, phone-number or email address are part of the data included."
   ]
  },
  {
   "cell_type": "code",
   "execution_count": 248,
   "metadata": {},
   "outputs": [
    {
     "name": "stderr",
     "output_type": "stream",
     "text": [
      "/tmp/ipykernel_497/878618893.py:6: UserWarning: pandas only supports SQLAlchemy connectable (engine/connection) or database string URI or sqlite3 DBAPI2 connection. Other DBAPI2 objects are not tested. Please consider using SQLAlchemy.\n",
      "  patient_data = pd.read_sql_query(\n"
     ]
    },
    {
     "data": {
      "text/html": [
       "<div>\n",
       "<style scoped>\n",
       "    .dataframe tbody tr th:only-of-type {\n",
       "        vertical-align: middle;\n",
       "    }\n",
       "\n",
       "    .dataframe tbody tr th {\n",
       "        vertical-align: top;\n",
       "    }\n",
       "\n",
       "    .dataframe thead th {\n",
       "        text-align: right;\n",
       "    }\n",
       "</style>\n",
       "<table border=\"1\" class=\"dataframe\">\n",
       "  <thead>\n",
       "    <tr style=\"text-align: right;\">\n",
       "      <th></th>\n",
       "      <th>age</th>\n",
       "      <th>gender</th>\n",
       "      <th>total_bilirubin</th>\n",
       "      <th>direct_bilirubin</th>\n",
       "      <th>alkaline_phosphotase</th>\n",
       "      <th>alamine_aminotransferase</th>\n",
       "      <th>aspartate_aminotransferase</th>\n",
       "      <th>total_protiens</th>\n",
       "      <th>albumin</th>\n",
       "      <th>albumin_and_globulin_ratio</th>\n",
       "      <th>dataset</th>\n",
       "      <th>id</th>\n",
       "    </tr>\n",
       "  </thead>\n",
       "  <tbody>\n",
       "    <tr>\n",
       "      <th>0</th>\n",
       "      <td>65</td>\n",
       "      <td>Female</td>\n",
       "      <td>0.7</td>\n",
       "      <td>0.1</td>\n",
       "      <td>187</td>\n",
       "      <td>16</td>\n",
       "      <td>18</td>\n",
       "      <td>6.8</td>\n",
       "      <td>3.3</td>\n",
       "      <td>0.90</td>\n",
       "      <td>1</td>\n",
       "      <td>1</td>\n",
       "    </tr>\n",
       "    <tr>\n",
       "      <th>1</th>\n",
       "      <td>62</td>\n",
       "      <td>Male</td>\n",
       "      <td>10.9</td>\n",
       "      <td>5.5</td>\n",
       "      <td>699</td>\n",
       "      <td>64</td>\n",
       "      <td>100</td>\n",
       "      <td>7.5</td>\n",
       "      <td>3.2</td>\n",
       "      <td>0.74</td>\n",
       "      <td>1</td>\n",
       "      <td>2</td>\n",
       "    </tr>\n",
       "    <tr>\n",
       "      <th>2</th>\n",
       "      <td>62</td>\n",
       "      <td>Male</td>\n",
       "      <td>7.3</td>\n",
       "      <td>4.1</td>\n",
       "      <td>490</td>\n",
       "      <td>60</td>\n",
       "      <td>68</td>\n",
       "      <td>7.0</td>\n",
       "      <td>3.3</td>\n",
       "      <td>0.89</td>\n",
       "      <td>1</td>\n",
       "      <td>3</td>\n",
       "    </tr>\n",
       "    <tr>\n",
       "      <th>3</th>\n",
       "      <td>58</td>\n",
       "      <td>Male</td>\n",
       "      <td>1.0</td>\n",
       "      <td>0.4</td>\n",
       "      <td>182</td>\n",
       "      <td>14</td>\n",
       "      <td>20</td>\n",
       "      <td>6.8</td>\n",
       "      <td>3.4</td>\n",
       "      <td>1.00</td>\n",
       "      <td>1</td>\n",
       "      <td>4</td>\n",
       "    </tr>\n",
       "    <tr>\n",
       "      <th>4</th>\n",
       "      <td>72</td>\n",
       "      <td>Male</td>\n",
       "      <td>3.9</td>\n",
       "      <td>2.0</td>\n",
       "      <td>195</td>\n",
       "      <td>27</td>\n",
       "      <td>59</td>\n",
       "      <td>7.3</td>\n",
       "      <td>2.4</td>\n",
       "      <td>0.40</td>\n",
       "      <td>1</td>\n",
       "      <td>5</td>\n",
       "    </tr>\n",
       "    <tr>\n",
       "      <th>...</th>\n",
       "      <td>...</td>\n",
       "      <td>...</td>\n",
       "      <td>...</td>\n",
       "      <td>...</td>\n",
       "      <td>...</td>\n",
       "      <td>...</td>\n",
       "      <td>...</td>\n",
       "      <td>...</td>\n",
       "      <td>...</td>\n",
       "      <td>...</td>\n",
       "      <td>...</td>\n",
       "      <td>...</td>\n",
       "    </tr>\n",
       "    <tr>\n",
       "      <th>578</th>\n",
       "      <td>60</td>\n",
       "      <td>Male</td>\n",
       "      <td>0.5</td>\n",
       "      <td>0.1</td>\n",
       "      <td>500</td>\n",
       "      <td>20</td>\n",
       "      <td>34</td>\n",
       "      <td>5.9</td>\n",
       "      <td>1.6</td>\n",
       "      <td>0.37</td>\n",
       "      <td>2</td>\n",
       "      <td>579</td>\n",
       "    </tr>\n",
       "    <tr>\n",
       "      <th>579</th>\n",
       "      <td>40</td>\n",
       "      <td>Male</td>\n",
       "      <td>0.6</td>\n",
       "      <td>0.1</td>\n",
       "      <td>98</td>\n",
       "      <td>35</td>\n",
       "      <td>31</td>\n",
       "      <td>6.0</td>\n",
       "      <td>3.2</td>\n",
       "      <td>1.10</td>\n",
       "      <td>1</td>\n",
       "      <td>580</td>\n",
       "    </tr>\n",
       "    <tr>\n",
       "      <th>580</th>\n",
       "      <td>52</td>\n",
       "      <td>Male</td>\n",
       "      <td>0.8</td>\n",
       "      <td>0.2</td>\n",
       "      <td>245</td>\n",
       "      <td>48</td>\n",
       "      <td>49</td>\n",
       "      <td>6.4</td>\n",
       "      <td>3.2</td>\n",
       "      <td>1.00</td>\n",
       "      <td>1</td>\n",
       "      <td>581</td>\n",
       "    </tr>\n",
       "    <tr>\n",
       "      <th>581</th>\n",
       "      <td>31</td>\n",
       "      <td>Male</td>\n",
       "      <td>1.3</td>\n",
       "      <td>0.5</td>\n",
       "      <td>184</td>\n",
       "      <td>29</td>\n",
       "      <td>32</td>\n",
       "      <td>6.8</td>\n",
       "      <td>3.4</td>\n",
       "      <td>1.00</td>\n",
       "      <td>1</td>\n",
       "      <td>582</td>\n",
       "    </tr>\n",
       "    <tr>\n",
       "      <th>582</th>\n",
       "      <td>38</td>\n",
       "      <td>Male</td>\n",
       "      <td>1.0</td>\n",
       "      <td>0.3</td>\n",
       "      <td>216</td>\n",
       "      <td>21</td>\n",
       "      <td>24</td>\n",
       "      <td>7.3</td>\n",
       "      <td>4.4</td>\n",
       "      <td>1.50</td>\n",
       "      <td>2</td>\n",
       "      <td>583</td>\n",
       "    </tr>\n",
       "  </tbody>\n",
       "</table>\n",
       "<p>583 rows × 12 columns</p>\n",
       "</div>"
      ],
      "text/plain": [
       "     age  gender  total_bilirubin  ...  albumin_and_globulin_ratio  dataset   id\n",
       "0     65  Female              0.7  ...                        0.90        1    1\n",
       "1     62    Male             10.9  ...                        0.74        1    2\n",
       "2     62    Male              7.3  ...                        0.89        1    3\n",
       "3     58    Male              1.0  ...                        1.00        1    4\n",
       "4     72    Male              3.9  ...                        0.40        1    5\n",
       "..   ...     ...              ...  ...                         ...      ...  ...\n",
       "578   60    Male              0.5  ...                        0.37        2  579\n",
       "579   40    Male              0.6  ...                        1.10        1  580\n",
       "580   52    Male              0.8  ...                        1.00        1  581\n",
       "581   31    Male              1.3  ...                        1.00        1  582\n",
       "582   38    Male              1.0  ...                        1.50        2  583\n",
       "\n",
       "[583 rows x 12 columns]"
      ]
     },
     "execution_count": 248,
     "metadata": {},
     "output_type": "execute_result"
    }
   ],
   "source": [
    "import pandas as pd\n",
    "\n",
    "DATABASE_NAME: str = \"db\"\n",
    "\n",
    "connection, _ = healthcare_demo.connect_to_postgress(DATABASE_NAME)\n",
    "patient_data = pd.read_sql_query(\n",
    "    \"SELECT * FROM indian_liver_patient\", con=connection\n",
    ")\n",
    "\n",
    "patient_data"
   ]
  },
  {
   "cell_type": "markdown",
   "metadata": {},
   "source": [
    "# Linkage Attacks\n",
    "\n",
    "Let us image we have a target that we now was part of this study, that does not want us to know their results. \n",
    "\n",
    "Let us also imagine that we know the target has 44 years old."
   ]
  },
  {
   "cell_type": "code",
   "execution_count": 249,
   "metadata": {},
   "outputs": [
    {
     "data": {
      "text/html": [
       "<div>\n",
       "<style scoped>\n",
       "    .dataframe tbody tr th:only-of-type {\n",
       "        vertical-align: middle;\n",
       "    }\n",
       "\n",
       "    .dataframe tbody tr th {\n",
       "        vertical-align: top;\n",
       "    }\n",
       "\n",
       "    .dataframe thead th {\n",
       "        text-align: right;\n",
       "    }\n",
       "</style>\n",
       "<table border=\"1\" class=\"dataframe\">\n",
       "  <thead>\n",
       "    <tr style=\"text-align: right;\">\n",
       "      <th></th>\n",
       "      <th>age</th>\n",
       "      <th>gender</th>\n",
       "      <th>total_bilirubin</th>\n",
       "      <th>direct_bilirubin</th>\n",
       "      <th>alkaline_phosphotase</th>\n",
       "      <th>alamine_aminotransferase</th>\n",
       "      <th>aspartate_aminotransferase</th>\n",
       "      <th>total_protiens</th>\n",
       "      <th>albumin</th>\n",
       "      <th>albumin_and_globulin_ratio</th>\n",
       "      <th>dataset</th>\n",
       "      <th>id</th>\n",
       "    </tr>\n",
       "  </thead>\n",
       "  <tbody>\n",
       "    <tr>\n",
       "      <th>171</th>\n",
       "      <td>44</td>\n",
       "      <td>Female</td>\n",
       "      <td>1.9</td>\n",
       "      <td>0.6</td>\n",
       "      <td>298</td>\n",
       "      <td>378</td>\n",
       "      <td>602</td>\n",
       "      <td>6.6</td>\n",
       "      <td>3.3</td>\n",
       "      <td>1.0</td>\n",
       "      <td>1</td>\n",
       "      <td>172</td>\n",
       "    </tr>\n",
       "    <tr>\n",
       "      <th>257</th>\n",
       "      <td>44</td>\n",
       "      <td>Male</td>\n",
       "      <td>0.8</td>\n",
       "      <td>0.2</td>\n",
       "      <td>335</td>\n",
       "      <td>148</td>\n",
       "      <td>86</td>\n",
       "      <td>5.6</td>\n",
       "      <td>3.0</td>\n",
       "      <td>1.1</td>\n",
       "      <td>1</td>\n",
       "      <td>258</td>\n",
       "    </tr>\n",
       "    <tr>\n",
       "      <th>316</th>\n",
       "      <td>44</td>\n",
       "      <td>Male</td>\n",
       "      <td>0.9</td>\n",
       "      <td>0.2</td>\n",
       "      <td>182</td>\n",
       "      <td>29</td>\n",
       "      <td>82</td>\n",
       "      <td>7.1</td>\n",
       "      <td>3.7</td>\n",
       "      <td>1.0</td>\n",
       "      <td>2</td>\n",
       "      <td>317</td>\n",
       "    </tr>\n",
       "  </tbody>\n",
       "</table>\n",
       "</div>"
      ],
      "text/plain": [
       "     age  gender  total_bilirubin  ...  albumin_and_globulin_ratio  dataset   id\n",
       "171   44  Female              1.9  ...                         1.0        1  172\n",
       "257   44    Male              0.8  ...                         1.1        1  258\n",
       "316   44    Male              0.9  ...                         1.0        2  317\n",
       "\n",
       "[3 rows x 12 columns]"
      ]
     },
     "execution_count": 249,
     "metadata": {},
     "output_type": "execute_result"
    }
   ],
   "source": [
    "TARGET_AGE: int = 44\n",
    "patient_data.query(f\"age == {TARGET_AGE}\")"
   ]
  },
  {
   "cell_type": "markdown",
   "metadata": {},
   "source": [
    "Now we know that there's a **2/3 probability** that this target has liver disease. Now, let us consider we receive additional information about their `gender`:"
   ]
  },
  {
   "cell_type": "code",
   "execution_count": 250,
   "metadata": {},
   "outputs": [
    {
     "data": {
      "text/html": [
       "<div>\n",
       "<style scoped>\n",
       "    .dataframe tbody tr th:only-of-type {\n",
       "        vertical-align: middle;\n",
       "    }\n",
       "\n",
       "    .dataframe tbody tr th {\n",
       "        vertical-align: top;\n",
       "    }\n",
       "\n",
       "    .dataframe thead th {\n",
       "        text-align: right;\n",
       "    }\n",
       "</style>\n",
       "<table border=\"1\" class=\"dataframe\">\n",
       "  <thead>\n",
       "    <tr style=\"text-align: right;\">\n",
       "      <th></th>\n",
       "      <th>age</th>\n",
       "      <th>gender</th>\n",
       "      <th>total_bilirubin</th>\n",
       "      <th>direct_bilirubin</th>\n",
       "      <th>alkaline_phosphotase</th>\n",
       "      <th>alamine_aminotransferase</th>\n",
       "      <th>aspartate_aminotransferase</th>\n",
       "      <th>total_protiens</th>\n",
       "      <th>albumin</th>\n",
       "      <th>albumin_and_globulin_ratio</th>\n",
       "      <th>dataset</th>\n",
       "      <th>id</th>\n",
       "    </tr>\n",
       "  </thead>\n",
       "  <tbody>\n",
       "    <tr>\n",
       "      <th>171</th>\n",
       "      <td>44</td>\n",
       "      <td>Female</td>\n",
       "      <td>1.9</td>\n",
       "      <td>0.6</td>\n",
       "      <td>298</td>\n",
       "      <td>378</td>\n",
       "      <td>602</td>\n",
       "      <td>6.6</td>\n",
       "      <td>3.3</td>\n",
       "      <td>1.0</td>\n",
       "      <td>1</td>\n",
       "      <td>172</td>\n",
       "    </tr>\n",
       "  </tbody>\n",
       "</table>\n",
       "</div>"
      ],
      "text/plain": [
       "     age  gender  total_bilirubin  ...  albumin_and_globulin_ratio  dataset   id\n",
       "171   44  Female              1.9  ...                         1.0        1  172\n",
       "\n",
       "[1 rows x 12 columns]"
      ]
     },
     "execution_count": 250,
     "metadata": {},
     "output_type": "execute_result"
    }
   ],
   "source": [
    "TARGET_GENDER: str = \"Female\"\n",
    "patient_data.query(f\"age == {TARGET_AGE} and gender == '{TARGET_GENDER}'\")"
   ]
  },
  {
   "cell_type": "markdown",
   "metadata": {},
   "source": [
    "We have learned **against the target's will** that she has liver disease. Now, let's check how many people can we identify if we only know their age:\n"
   ]
  },
  {
   "cell_type": "code",
   "execution_count": 251,
   "metadata": {},
   "outputs": [
    {
     "data": {
      "text/plain": [
       "Text(0, 0.5, 'Number of occurrences')"
      ]
     },
     "execution_count": 251,
     "metadata": {},
     "output_type": "execute_result"
    },
    {
     "data": {
      "image/png": "[encoded data removed]",
      "text/plain": [
       "<Figure size 640x480 with 1 Axes>"
      ]
     },
     "metadata": {},
     "output_type": "display_data"
    }
   ],
   "source": [
    "import matplotlib.pyplot as plt\n",
    "\n",
    "age_counts: pd.DataFrame = patient_data[\"age\"].value_counts()\n",
    "NUMBER_OF_BINS: int = max(age_counts)\n",
    "\n",
    "age_counts.hist(bins=NUMBER_OF_BINS)\n",
    "plt.xlabel(\"Number of ages\")\n",
    "plt.ylabel(\"Number of occurrences\")"
   ]
  },
  {
   "cell_type": "markdown",
   "metadata": {},
   "source": [
    "\n",
    "## Aggregation\n",
    "\n",
    "To avoid this situations, a common approach is to only release aggregate information. For example, let's release the average `albumin` per age group:"
   ]
  },
  {
   "cell_type": "code",
   "execution_count": 252,
   "metadata": {},
   "outputs": [
    {
     "data": {
      "text/html": [
       "<div>\n",
       "<style scoped>\n",
       "    .dataframe tbody tr th:only-of-type {\n",
       "        vertical-align: middle;\n",
       "    }\n",
       "\n",
       "    .dataframe tbody tr th {\n",
       "        vertical-align: top;\n",
       "    }\n",
       "\n",
       "    .dataframe thead th {\n",
       "        text-align: right;\n",
       "    }\n",
       "</style>\n",
       "<table border=\"1\" class=\"dataframe\">\n",
       "  <thead>\n",
       "    <tr style=\"text-align: right;\">\n",
       "      <th></th>\n",
       "      <th>age</th>\n",
       "      <th>albumin</th>\n",
       "    </tr>\n",
       "    <tr>\n",
       "      <th>age</th>\n",
       "      <th></th>\n",
       "      <th></th>\n",
       "    </tr>\n",
       "  </thead>\n",
       "  <tbody>\n",
       "    <tr>\n",
       "      <th>(0, 5]</th>\n",
       "      <td>4.000000</td>\n",
       "      <td>3.600000</td>\n",
       "    </tr>\n",
       "    <tr>\n",
       "      <th>(5, 10]</th>\n",
       "      <td>7.600000</td>\n",
       "      <td>3.040000</td>\n",
       "    </tr>\n",
       "    <tr>\n",
       "      <th>(10, 15]</th>\n",
       "      <td>13.000000</td>\n",
       "      <td>3.960000</td>\n",
       "    </tr>\n",
       "    <tr>\n",
       "      <th>(15, 20]</th>\n",
       "      <td>17.875000</td>\n",
       "      <td>3.395833</td>\n",
       "    </tr>\n",
       "    <tr>\n",
       "      <th>(20, 25]</th>\n",
       "      <td>22.724138</td>\n",
       "      <td>3.634483</td>\n",
       "    </tr>\n",
       "    <tr>\n",
       "      <th>(25, 30]</th>\n",
       "      <td>27.844444</td>\n",
       "      <td>3.320000</td>\n",
       "    </tr>\n",
       "    <tr>\n",
       "      <th>(30, 35]</th>\n",
       "      <td>32.936508</td>\n",
       "      <td>3.225397</td>\n",
       "    </tr>\n",
       "    <tr>\n",
       "      <th>(35, 40]</th>\n",
       "      <td>38.140625</td>\n",
       "      <td>3.314062</td>\n",
       "    </tr>\n",
       "    <tr>\n",
       "      <th>(40, 45]</th>\n",
       "      <td>43.379310</td>\n",
       "      <td>3.050000</td>\n",
       "    </tr>\n",
       "    <tr>\n",
       "      <th>(45, 50]</th>\n",
       "      <td>48.250000</td>\n",
       "      <td>3.180263</td>\n",
       "    </tr>\n",
       "    <tr>\n",
       "      <th>(50, 55]</th>\n",
       "      <td>53.346939</td>\n",
       "      <td>2.957143</td>\n",
       "    </tr>\n",
       "    <tr>\n",
       "      <th>(55, 60]</th>\n",
       "      <td>58.898305</td>\n",
       "      <td>2.883051</td>\n",
       "    </tr>\n",
       "    <tr>\n",
       "      <th>(60, 65]</th>\n",
       "      <td>63.538462</td>\n",
       "      <td>3.033333</td>\n",
       "    </tr>\n",
       "    <tr>\n",
       "      <th>(65, 70]</th>\n",
       "      <td>67.821429</td>\n",
       "      <td>2.860714</td>\n",
       "    </tr>\n",
       "    <tr>\n",
       "      <th>(70, 75]</th>\n",
       "      <td>73.857143</td>\n",
       "      <td>2.614286</td>\n",
       "    </tr>\n",
       "    <tr>\n",
       "      <th>(75, 80]</th>\n",
       "      <td>78.000000</td>\n",
       "      <td>3.100000</td>\n",
       "    </tr>\n",
       "    <tr>\n",
       "      <th>(80, 85]</th>\n",
       "      <td>84.500000</td>\n",
       "      <td>3.400000</td>\n",
       "    </tr>\n",
       "    <tr>\n",
       "      <th>(85, 90]</th>\n",
       "      <td>90.000000</td>\n",
       "      <td>3.000000</td>\n",
       "    </tr>\n",
       "  </tbody>\n",
       "</table>\n",
       "</div>"
      ],
      "text/plain": [
       "                age   albumin\n",
       "age                          \n",
       "(0, 5]     4.000000  3.600000\n",
       "(5, 10]    7.600000  3.040000\n",
       "(10, 15]  13.000000  3.960000\n",
       "(15, 20]  17.875000  3.395833\n",
       "(20, 25]  22.724138  3.634483\n",
       "(25, 30]  27.844444  3.320000\n",
       "(30, 35]  32.936508  3.225397\n",
       "(35, 40]  38.140625  3.314062\n",
       "(40, 45]  43.379310  3.050000\n",
       "(45, 50]  48.250000  3.180263\n",
       "(50, 55]  53.346939  2.957143\n",
       "(55, 60]  58.898305  2.883051\n",
       "(60, 65]  63.538462  3.033333\n",
       "(65, 70]  67.821429  2.860714\n",
       "(70, 75]  73.857143  2.614286\n",
       "(75, 80]  78.000000  3.100000\n",
       "(80, 85]  84.500000  3.400000\n",
       "(85, 90]  90.000000  3.000000"
      ]
     },
     "execution_count": 252,
     "metadata": {},
     "output_type": "execute_result"
    }
   ],
   "source": [
    "import numpy as np\n",
    "\n",
    "age_and_albumin: pd.DataFrame = patient_data[[\"age\", \"albumin\"]]\n",
    "\n",
    "albumin_per_age_group: pd.DataFrame = age_and_albumin.groupby(\n",
    "    pd.cut(patient_data[\"age\"], np.arange(0, 95, 5))\n",
    ").mean()\n",
    "\n",
    "albumin_per_age_group"
   ]
  },
  {
   "cell_type": "markdown",
   "metadata": {},
   "source": [
    "Now, the average age for group `(75, 80]` corresponds to the age of a single patient, and we are actually revealing his albumin results."
   ]
  },
  {
   "cell_type": "code",
   "execution_count": 253,
   "metadata": {},
   "outputs": [
    {
     "data": {
      "text/html": [
       "<div>\n",
       "<style scoped>\n",
       "    .dataframe tbody tr th:only-of-type {\n",
       "        vertical-align: middle;\n",
       "    }\n",
       "\n",
       "    .dataframe tbody tr th {\n",
       "        vertical-align: top;\n",
       "    }\n",
       "\n",
       "    .dataframe thead th {\n",
       "        text-align: right;\n",
       "    }\n",
       "</style>\n",
       "<table border=\"1\" class=\"dataframe\">\n",
       "  <thead>\n",
       "    <tr style=\"text-align: right;\">\n",
       "      <th></th>\n",
       "      <th>age</th>\n",
       "      <th>gender</th>\n",
       "      <th>total_bilirubin</th>\n",
       "      <th>direct_bilirubin</th>\n",
       "      <th>alkaline_phosphotase</th>\n",
       "      <th>alamine_aminotransferase</th>\n",
       "      <th>aspartate_aminotransferase</th>\n",
       "      <th>total_protiens</th>\n",
       "      <th>albumin</th>\n",
       "      <th>albumin_and_globulin_ratio</th>\n",
       "      <th>dataset</th>\n",
       "      <th>id</th>\n",
       "    </tr>\n",
       "  </thead>\n",
       "  <tbody>\n",
       "    <tr>\n",
       "      <th>397</th>\n",
       "      <td>78</td>\n",
       "      <td>Male</td>\n",
       "      <td>1.0</td>\n",
       "      <td>0.3</td>\n",
       "      <td>152</td>\n",
       "      <td>28</td>\n",
       "      <td>70</td>\n",
       "      <td>6.3</td>\n",
       "      <td>3.1</td>\n",
       "      <td>0.9</td>\n",
       "      <td>1</td>\n",
       "      <td>398</td>\n",
       "    </tr>\n",
       "  </tbody>\n",
       "</table>\n",
       "</div>"
      ],
      "text/plain": [
       "     age gender  total_bilirubin  ...  albumin_and_globulin_ratio  dataset   id\n",
       "397   78   Male              1.0  ...                         0.9        1  398\n",
       "\n",
       "[1 rows x 12 columns]"
      ]
     },
     "execution_count": 253,
     "metadata": {},
     "output_type": "execute_result"
    }
   ],
   "source": [
    "average_age: float = 78.0\n",
    "patient_data.query(f\"age == {average_age}\")"
   ]
  },
  {
   "cell_type": "markdown",
   "metadata": {},
   "source": [
    "## Differencing Attacks\n",
    "\n",
    "Let us imagine that our fictional target hasn't participated in the study yet. And that the researchers release total `albumin` per gender daily:"
   ]
  },
  {
   "cell_type": "code",
   "execution_count": 254,
   "metadata": {},
   "outputs": [
    {
     "data": {
      "text/html": [
       "<div>\n",
       "<style scoped>\n",
       "    .dataframe tbody tr th:only-of-type {\n",
       "        vertical-align: middle;\n",
       "    }\n",
       "\n",
       "    .dataframe tbody tr th {\n",
       "        vertical-align: top;\n",
       "    }\n",
       "\n",
       "    .dataframe thead th {\n",
       "        text-align: right;\n",
       "    }\n",
       "</style>\n",
       "<table border=\"1\" class=\"dataframe\">\n",
       "  <thead>\n",
       "    <tr style=\"text-align: right;\">\n",
       "      <th></th>\n",
       "      <th>albumin</th>\n",
       "    </tr>\n",
       "    <tr>\n",
       "      <th>gender</th>\n",
       "      <th></th>\n",
       "    </tr>\n",
       "  </thead>\n",
       "  <tbody>\n",
       "    <tr>\n",
       "      <th>Female</th>\n",
       "      <td>461.5</td>\n",
       "    </tr>\n",
       "    <tr>\n",
       "      <th>Male</th>\n",
       "      <td>1366.9</td>\n",
       "    </tr>\n",
       "  </tbody>\n",
       "</table>\n",
       "</div>"
      ],
      "text/plain": [
       "        albumin\n",
       "gender         \n",
       "Female    461.5\n",
       "Male     1366.9"
      ]
     },
     "execution_count": 254,
     "metadata": {},
     "output_type": "execute_result"
    }
   ],
   "source": [
    "patient_data_without_target: pd.DataFrame = patient_data.query(\n",
    "    f\"age != {TARGET_AGE} or gender != '{TARGET_GENDER}'\"\n",
    ")\n",
    "\n",
    "healthcare_demo.get_albumin_per_gender(patient_data_without_target)"
   ]
  },
  {
   "cell_type": "markdown",
   "metadata": {},
   "source": [
    "Our target attends to the study, and inmediatly the researchers do their daily release:"
   ]
  },
  {
   "cell_type": "code",
   "execution_count": 255,
   "metadata": {},
   "outputs": [
    {
     "data": {
      "text/html": [
       "<div>\n",
       "<style scoped>\n",
       "    .dataframe tbody tr th:only-of-type {\n",
       "        vertical-align: middle;\n",
       "    }\n",
       "\n",
       "    .dataframe tbody tr th {\n",
       "        vertical-align: top;\n",
       "    }\n",
       "\n",
       "    .dataframe thead th {\n",
       "        text-align: right;\n",
       "    }\n",
       "</style>\n",
       "<table border=\"1\" class=\"dataframe\">\n",
       "  <thead>\n",
       "    <tr style=\"text-align: right;\">\n",
       "      <th></th>\n",
       "      <th>albumin</th>\n",
       "    </tr>\n",
       "    <tr>\n",
       "      <th>gender</th>\n",
       "      <th></th>\n",
       "    </tr>\n",
       "  </thead>\n",
       "  <tbody>\n",
       "    <tr>\n",
       "      <th>Female</th>\n",
       "      <td>464.8</td>\n",
       "    </tr>\n",
       "    <tr>\n",
       "      <th>Male</th>\n",
       "      <td>1366.9</td>\n",
       "    </tr>\n",
       "  </tbody>\n",
       "</table>\n",
       "</div>"
      ],
      "text/plain": [
       "        albumin\n",
       "gender         \n",
       "Female    464.8\n",
       "Male     1366.9"
      ]
     },
     "execution_count": 255,
     "metadata": {},
     "output_type": "execute_result"
    }
   ],
   "source": [
    "healthcare_demo.get_albumin_per_gender(patient_data)"
   ]
  },
  {
   "cell_type": "markdown",
   "metadata": {},
   "source": [
    "Now, we can easily obtain our target's albumin by `464.8 - 461.5 = 3.3`."
   ]
  },
  {
   "cell_type": "markdown",
   "metadata": {},
   "source": [
    "## K-Anonimity\n",
    "\n",
    "Let's check for what values of `k` our dataset holds `k-anonymity`. For demonstration purposes, we consider `age`, `gender`, and `dataset` as quasi-identifiers:"
   ]
  },
  {
   "cell_type": "code",
   "execution_count": 256,
   "metadata": {},
   "outputs": [
    {
     "name": "stdout",
     "output_type": "stream",
     "text": [
      "True\n"
     ]
    }
   ],
   "source": [
    "QUASI_IDENTIFIERS: str = [\"age\", \"gender\", \"dataset\"]\n",
    "\n",
    "print(\n",
    "    healthcare_demo.is_k_anonymized(\n",
    "        patient_data, k_value=1, quasi_identifiers=QUASI_IDENTIFIERS\n",
    "    )\n",
    ")"
   ]
  },
  {
   "cell_type": "markdown",
   "metadata": {},
   "source": [
    "However, k-anonimity of `2` can be challenging:"
   ]
  },
  {
   "cell_type": "code",
   "execution_count": 257,
   "metadata": {},
   "outputs": [
    {
     "name": "stdout",
     "output_type": "stream",
     "text": [
      "False\n"
     ]
    }
   ],
   "source": [
    "print(\n",
    "    healthcare_demo.is_k_anonymized(\n",
    "        patient_data, k_value=2, quasi_identifiers=QUASI_IDENTIFIERS\n",
    "    )\n",
    ")"
   ]
  },
  {
   "cell_type": "markdown",
   "metadata": {},
   "source": [
    "## Generalising the Data\n",
    "\n",
    "We can attempt to reach k-anoninimity for `k=2` by rounding age to the nearest 10 years:"
   ]
  },
  {
   "cell_type": "code",
   "execution_count": 258,
   "metadata": {},
   "outputs": [
    {
     "data": {
      "text/html": [
       "<div>\n",
       "<style scoped>\n",
       "    .dataframe tbody tr th:only-of-type {\n",
       "        vertical-align: middle;\n",
       "    }\n",
       "\n",
       "    .dataframe tbody tr th {\n",
       "        vertical-align: top;\n",
       "    }\n",
       "\n",
       "    .dataframe thead th {\n",
       "        text-align: right;\n",
       "    }\n",
       "</style>\n",
       "<table border=\"1\" class=\"dataframe\">\n",
       "  <thead>\n",
       "    <tr style=\"text-align: right;\">\n",
       "      <th></th>\n",
       "      <th>age</th>\n",
       "      <th>gender</th>\n",
       "      <th>total_bilirubin</th>\n",
       "      <th>direct_bilirubin</th>\n",
       "      <th>alkaline_phosphotase</th>\n",
       "      <th>alamine_aminotransferase</th>\n",
       "      <th>aspartate_aminotransferase</th>\n",
       "      <th>total_protiens</th>\n",
       "      <th>albumin</th>\n",
       "      <th>albumin_and_globulin_ratio</th>\n",
       "      <th>dataset</th>\n",
       "      <th>id</th>\n",
       "    </tr>\n",
       "  </thead>\n",
       "  <tbody>\n",
       "    <tr>\n",
       "      <th>0</th>\n",
       "      <td>60</td>\n",
       "      <td>Female</td>\n",
       "      <td>0.7</td>\n",
       "      <td>0.1</td>\n",
       "      <td>187</td>\n",
       "      <td>16</td>\n",
       "      <td>18</td>\n",
       "      <td>6.8</td>\n",
       "      <td>3.3</td>\n",
       "      <td>0.90</td>\n",
       "      <td>1</td>\n",
       "      <td>1</td>\n",
       "    </tr>\n",
       "    <tr>\n",
       "      <th>1</th>\n",
       "      <td>60</td>\n",
       "      <td>Male</td>\n",
       "      <td>10.9</td>\n",
       "      <td>5.5</td>\n",
       "      <td>699</td>\n",
       "      <td>64</td>\n",
       "      <td>100</td>\n",
       "      <td>7.5</td>\n",
       "      <td>3.2</td>\n",
       "      <td>0.74</td>\n",
       "      <td>1</td>\n",
       "      <td>2</td>\n",
       "    </tr>\n",
       "    <tr>\n",
       "      <th>2</th>\n",
       "      <td>60</td>\n",
       "      <td>Male</td>\n",
       "      <td>7.3</td>\n",
       "      <td>4.1</td>\n",
       "      <td>490</td>\n",
       "      <td>60</td>\n",
       "      <td>68</td>\n",
       "      <td>7.0</td>\n",
       "      <td>3.3</td>\n",
       "      <td>0.89</td>\n",
       "      <td>1</td>\n",
       "      <td>3</td>\n",
       "    </tr>\n",
       "    <tr>\n",
       "      <th>3</th>\n",
       "      <td>60</td>\n",
       "      <td>Male</td>\n",
       "      <td>1.0</td>\n",
       "      <td>0.4</td>\n",
       "      <td>182</td>\n",
       "      <td>14</td>\n",
       "      <td>20</td>\n",
       "      <td>6.8</td>\n",
       "      <td>3.4</td>\n",
       "      <td>1.00</td>\n",
       "      <td>1</td>\n",
       "      <td>4</td>\n",
       "    </tr>\n",
       "    <tr>\n",
       "      <th>4</th>\n",
       "      <td>70</td>\n",
       "      <td>Male</td>\n",
       "      <td>3.9</td>\n",
       "      <td>2.0</td>\n",
       "      <td>195</td>\n",
       "      <td>27</td>\n",
       "      <td>59</td>\n",
       "      <td>7.3</td>\n",
       "      <td>2.4</td>\n",
       "      <td>0.40</td>\n",
       "      <td>1</td>\n",
       "      <td>5</td>\n",
       "    </tr>\n",
       "    <tr>\n",
       "      <th>...</th>\n",
       "      <td>...</td>\n",
       "      <td>...</td>\n",
       "      <td>...</td>\n",
       "      <td>...</td>\n",
       "      <td>...</td>\n",
       "      <td>...</td>\n",
       "      <td>...</td>\n",
       "      <td>...</td>\n",
       "      <td>...</td>\n",
       "      <td>...</td>\n",
       "      <td>...</td>\n",
       "      <td>...</td>\n",
       "    </tr>\n",
       "    <tr>\n",
       "      <th>578</th>\n",
       "      <td>60</td>\n",
       "      <td>Male</td>\n",
       "      <td>0.5</td>\n",
       "      <td>0.1</td>\n",
       "      <td>500</td>\n",
       "      <td>20</td>\n",
       "      <td>34</td>\n",
       "      <td>5.9</td>\n",
       "      <td>1.6</td>\n",
       "      <td>0.37</td>\n",
       "      <td>2</td>\n",
       "      <td>579</td>\n",
       "    </tr>\n",
       "    <tr>\n",
       "      <th>579</th>\n",
       "      <td>40</td>\n",
       "      <td>Male</td>\n",
       "      <td>0.6</td>\n",
       "      <td>0.1</td>\n",
       "      <td>98</td>\n",
       "      <td>35</td>\n",
       "      <td>31</td>\n",
       "      <td>6.0</td>\n",
       "      <td>3.2</td>\n",
       "      <td>1.10</td>\n",
       "      <td>1</td>\n",
       "      <td>580</td>\n",
       "    </tr>\n",
       "    <tr>\n",
       "      <th>580</th>\n",
       "      <td>50</td>\n",
       "      <td>Male</td>\n",
       "      <td>0.8</td>\n",
       "      <td>0.2</td>\n",
       "      <td>245</td>\n",
       "      <td>48</td>\n",
       "      <td>49</td>\n",
       "      <td>6.4</td>\n",
       "      <td>3.2</td>\n",
       "      <td>1.00</td>\n",
       "      <td>1</td>\n",
       "      <td>581</td>\n",
       "    </tr>\n",
       "    <tr>\n",
       "      <th>581</th>\n",
       "      <td>30</td>\n",
       "      <td>Male</td>\n",
       "      <td>1.3</td>\n",
       "      <td>0.5</td>\n",
       "      <td>184</td>\n",
       "      <td>29</td>\n",
       "      <td>32</td>\n",
       "      <td>6.8</td>\n",
       "      <td>3.4</td>\n",
       "      <td>1.00</td>\n",
       "      <td>1</td>\n",
       "      <td>582</td>\n",
       "    </tr>\n",
       "    <tr>\n",
       "      <th>582</th>\n",
       "      <td>40</td>\n",
       "      <td>Male</td>\n",
       "      <td>1.0</td>\n",
       "      <td>0.3</td>\n",
       "      <td>216</td>\n",
       "      <td>21</td>\n",
       "      <td>24</td>\n",
       "      <td>7.3</td>\n",
       "      <td>4.4</td>\n",
       "      <td>1.50</td>\n",
       "      <td>2</td>\n",
       "      <td>583</td>\n",
       "    </tr>\n",
       "  </tbody>\n",
       "</table>\n",
       "<p>583 rows × 12 columns</p>\n",
       "</div>"
      ],
      "text/plain": [
       "     age  gender  total_bilirubin  ...  albumin_and_globulin_ratio  dataset   id\n",
       "0     60  Female              0.7  ...                        0.90        1    1\n",
       "1     60    Male             10.9  ...                        0.74        1    2\n",
       "2     60    Male              7.3  ...                        0.89        1    3\n",
       "3     60    Male              1.0  ...                        1.00        1    4\n",
       "4     70    Male              3.9  ...                        0.40        1    5\n",
       "..   ...     ...              ...  ...                         ...      ...  ...\n",
       "578   60    Male              0.5  ...                        0.37        2  579\n",
       "579   40    Male              0.6  ...                        1.10        1  580\n",
       "580   50    Male              0.8  ...                        1.00        1  581\n",
       "581   30    Male              1.3  ...                        1.00        1  582\n",
       "582   40    Male              1.0  ...                        1.50        2  583\n",
       "\n",
       "[583 rows x 12 columns]"
      ]
     },
     "execution_count": 258,
     "metadata": {},
     "output_type": "execute_result"
    }
   ],
   "source": [
    "generalised_patient_data: pd.DataFrame = patient_data.copy()\n",
    "generalised_patient_data[\"age\"] = generalised_patient_data[\"age\"].round(-1)\n",
    "\n",
    "generalised_patient_data"
   ]
  },
  {
   "cell_type": "markdown",
   "metadata": {},
   "source": [
    "Now, let's try again and see if we satisfy k-anonimity for `k=2`:"
   ]
  },
  {
   "cell_type": "code",
   "execution_count": 259,
   "metadata": {},
   "outputs": [
    {
     "name": "stdout",
     "output_type": "stream",
     "text": [
      "False\n"
     ]
    }
   ],
   "source": [
    "print(\n",
    "    healthcare_demo.is_k_anonymized(\n",
    "        generalised_patient_data, k_value=2, quasi_identifiers=QUASI_IDENTIFIERS\n",
    "    )\n",
    ")"
   ]
  },
  {
   "cell_type": "markdown",
   "metadata": {},
   "source": [
    "Outliers might be reason behind this:"
   ]
  },
  {
   "cell_type": "code",
   "execution_count": 260,
   "metadata": {},
   "outputs": [
    {
     "data": {
      "text/plain": [
       "Text(0, 0.5, 'Number of occurrences')"
      ]
     },
     "execution_count": 260,
     "metadata": {},
     "output_type": "execute_result"
    },
    {
     "data": {
      "image/png": "[encoded data removed]",
      "text/plain": [
       "<Figure size 640x480 with 1 Axes>"
      ]
     },
     "metadata": {},
     "output_type": "display_data"
    }
   ],
   "source": [
    "generalised_patient_data[\"age\"].hist()\n",
    "plt.xlabel(\"Generalised Age\")\n",
    "plt.ylabel(\"Number of occurrences\")\n"
   ]
  },
  {
   "cell_type": "markdown",
   "metadata": {},
   "source": [
    "Let's attempt clipping to see if we can achieve k-anonimity for `k=2`:"
   ]
  },
  {
   "cell_type": "code",
   "execution_count": 261,
   "metadata": {},
   "outputs": [
    {
     "name": "stdout",
     "output_type": "stream",
     "text": [
      "False\n"
     ]
    }
   ],
   "source": [
    "maximum_age: int = 80\n",
    "clipped_age_data: pd.DataFrame = healthcare_demo.clip_column(\n",
    "    data=patient_data, column=\"age\", maximum=maximum_age\n",
    ")\n",
    "\n",
    "print(\n",
    "    healthcare_demo.is_k_anonymized(\n",
    "        clipped_age_data, k_value=2, quasi_identifiers=QUASI_IDENTIFIERS\n",
    "    )\n",
    ")"
   ]
  },
  {
   "cell_type": "markdown",
   "metadata": {},
   "source": [
    "Still...no luck. What if we also generalise:"
   ]
  },
  {
   "cell_type": "code",
   "execution_count": 262,
   "metadata": {},
   "outputs": [
    {
     "name": "stdout",
     "output_type": "stream",
     "text": [
      "True\n"
     ]
    }
   ],
   "source": [
    "clipped_and_generalised: pd.DataFrame = clipped_age_data.copy()\n",
    "clipped_and_generalised[\"age\"] = clipped_and_generalised[\"age\"].round(-1)\n",
    "\n",
    "print(\n",
    "    healthcare_demo.is_k_anonymized(\n",
    "        clipped_and_generalised, k_value=2, quasi_identifiers=QUASI_IDENTIFIERS\n",
    "    )\n",
    ")\n"
   ]
  },
  {
   "cell_type": "markdown",
   "metadata": {},
   "source": [
    "## Differential Privacy\n",
    "\n",
    "Let's consider first a query without differential privacy:"
   ]
  },
  {
   "cell_type": "code",
   "execution_count": 263,
   "metadata": {},
   "outputs": [
    {
     "data": {
      "text/plain": [
       "358"
      ]
     },
     "execution_count": 263,
     "metadata": {},
     "output_type": "execute_result"
    }
   ],
   "source": [
    "age: int = 40\n",
    "healthcare_demo.query_patients_older_than(age=age, patient_data=patient_data)"
   ]
  },
  {
   "cell_type": "markdown",
   "metadata": {},
   "source": [
    "Now let's do the same query, but applying differential privacy."
   ]
  },
  {
   "cell_type": "code",
   "execution_count": 264,
   "metadata": {},
   "outputs": [
    {
     "data": {
      "text/plain": [
       "368.188471460159"
      ]
     },
     "execution_count": 264,
     "metadata": {},
     "output_type": "execute_result"
    }
   ],
   "source": [
    "count_sensitivity: int = 1\n",
    "privacy_budget: float = 0.1\n",
    "\n",
    "random_noise: float = healthcare_demo.get_noise_using_laplace(\n",
    "    function_sensitivity=count_sensitivity, privacy_parameter=privacy_budget\n",
    ")\n",
    "\n",
    "(\n",
    "    healthcare_demo.query_patients_older_than(age=age, patient_data=patient_data)\n",
    "    + random_noise\n",
    ")"
   ]
  },
  {
   "cell_type": "markdown",
   "metadata": {},
   "source": [
    "Let's check if differential privacy can help protect our target, from the beginning of the notebook. First, we do the query without differential privacy:"
   ]
  },
  {
   "cell_type": "code",
   "execution_count": 265,
   "metadata": {},
   "outputs": [
    {
     "data": {
      "text/plain": [
       "1"
      ]
     },
     "execution_count": 265,
     "metadata": {},
     "output_type": "execute_result"
    }
   ],
   "source": [
    "healthcare_demo.query_patients_with_disease(\n",
    "    age=TARGET_AGE, gender=TARGET_GENDER, data=patient_data\n",
    ")"
   ]
  },
  {
   "cell_type": "markdown",
   "metadata": {},
   "source": [
    "Knowing the age and gender of our target, we can now know if they have liver disease. Let's see if differential privacy can address this issue:"
   ]
  },
  {
   "cell_type": "code",
   "execution_count": 266,
   "metadata": {},
   "outputs": [
    {
     "data": {
      "text/plain": [
       "-1.7985539304271634"
      ]
     },
     "execution_count": 266,
     "metadata": {},
     "output_type": "execute_result"
    }
   ],
   "source": [
    "healthcare_demo.query_patients_with_disease_v2(\n",
    "    age=TARGET_AGE, gender=TARGET_GENDER, data=patient_data\n",
    ")"
   ]
  },
  {
   "cell_type": "markdown",
   "metadata": {},
   "source": [
    "Now, it's harder to tell."
   ]
  },
  {
   "cell_type": "markdown",
   "metadata": {},
   "source": [
    "## Data Imbalance\n",
    "\n",
    "Sadly, we observed our dataset is imbalanced:"
   ]
  },
  {
   "cell_type": "code",
   "execution_count": 267,
   "metadata": {},
   "outputs": [
    {
     "data": {
      "text/plain": [
       "Text(0, 0.5, 'Counts')"
      ]
     },
     "execution_count": 267,
     "metadata": {},
     "output_type": "execute_result"
    },
    {
     "data": {
      "image/png": "[encoded data removed]",
      "text/plain": [
       "<Figure size 640x480 with 1 Axes>"
      ]
     },
     "metadata": {},
     "output_type": "display_data"
    }
   ],
   "source": [
    "patient_data[\"liver_disease\"] = patient_data[\"dataset\"].apply(\n",
    "    lambda dataset: \"Yes\" if dataset == 1 else \"No\"\n",
    ")\n",
    "patient_data.groupby(\"gender\").liver_disease.value_counts().unstack().plot.bar()\n",
    "plt.ylabel(\"Counts\")"
   ]
  },
  {
   "cell_type": "markdown",
   "metadata": {},
   "source": [
    "## Synthetic Data Generation\n",
    "\n",
    "### SDV\n",
    "Let's explore `SDV`, a library for synthetic data generation: "
   ]
  },
  {
   "cell_type": "code",
   "execution_count": 268,
   "metadata": {},
   "outputs": [
    {
     "name": "stderr",
     "output_type": "stream",
     "text": [
      "/opt/conda/lib/python3.10/site-packages/rdt/transformers/categorical.py:329: FutureWarning: The 'FrequencyEncoder' transformer will no longer be supported in future versions of the RDT library. Please use the 'UniformEncoder' transformer instead.\n",
      "  warnings.warn(\n"
     ]
    },
    {
     "data": {
      "text/html": [
       "<div>\n",
       "<style scoped>\n",
       "    .dataframe tbody tr th:only-of-type {\n",
       "        vertical-align: middle;\n",
       "    }\n",
       "\n",
       "    .dataframe tbody tr th {\n",
       "        vertical-align: top;\n",
       "    }\n",
       "\n",
       "    .dataframe thead th {\n",
       "        text-align: right;\n",
       "    }\n",
       "</style>\n",
       "<table border=\"1\" class=\"dataframe\">\n",
       "  <thead>\n",
       "    <tr style=\"text-align: right;\">\n",
       "      <th></th>\n",
       "      <th>age</th>\n",
       "      <th>gender</th>\n",
       "      <th>total_bilirubin</th>\n",
       "      <th>direct_bilirubin</th>\n",
       "      <th>alkaline_phosphotase</th>\n",
       "      <th>alamine_aminotransferase</th>\n",
       "      <th>aspartate_aminotransferase</th>\n",
       "      <th>total_protiens</th>\n",
       "      <th>albumin</th>\n",
       "      <th>albumin_and_globulin_ratio</th>\n",
       "      <th>dataset</th>\n",
       "      <th>id</th>\n",
       "      <th>liver_disease</th>\n",
       "    </tr>\n",
       "  </thead>\n",
       "  <tbody>\n",
       "    <tr>\n",
       "      <th>0</th>\n",
       "      <td>38</td>\n",
       "      <td>Male</td>\n",
       "      <td>10.115695</td>\n",
       "      <td>2.941720</td>\n",
       "      <td>395</td>\n",
       "      <td>236</td>\n",
       "      <td>312</td>\n",
       "      <td>6.631129</td>\n",
       "      <td>3.069221</td>\n",
       "      <td>0.984219</td>\n",
       "      <td>1</td>\n",
       "      <td>0</td>\n",
       "      <td>Yes</td>\n",
       "    </tr>\n",
       "    <tr>\n",
       "      <th>1</th>\n",
       "      <td>44</td>\n",
       "      <td>Male</td>\n",
       "      <td>7.901972</td>\n",
       "      <td>2.691352</td>\n",
       "      <td>485</td>\n",
       "      <td>146</td>\n",
       "      <td>306</td>\n",
       "      <td>6.101162</td>\n",
       "      <td>2.690942</td>\n",
       "      <td>0.513088</td>\n",
       "      <td>1</td>\n",
       "      <td>1</td>\n",
       "      <td>Yes</td>\n",
       "    </tr>\n",
       "    <tr>\n",
       "      <th>2</th>\n",
       "      <td>68</td>\n",
       "      <td>Male</td>\n",
       "      <td>17.550092</td>\n",
       "      <td>7.450946</td>\n",
       "      <td>653</td>\n",
       "      <td>326</td>\n",
       "      <td>617</td>\n",
       "      <td>6.185759</td>\n",
       "      <td>1.883869</td>\n",
       "      <td>0.566673</td>\n",
       "      <td>1</td>\n",
       "      <td>2</td>\n",
       "      <td>Yes</td>\n",
       "    </tr>\n",
       "    <tr>\n",
       "      <th>3</th>\n",
       "      <td>69</td>\n",
       "      <td>Male</td>\n",
       "      <td>0.400000</td>\n",
       "      <td>0.100000</td>\n",
       "      <td>628</td>\n",
       "      <td>10</td>\n",
       "      <td>10</td>\n",
       "      <td>6.359909</td>\n",
       "      <td>3.322110</td>\n",
       "      <td>1.217822</td>\n",
       "      <td>1</td>\n",
       "      <td>3</td>\n",
       "      <td>Yes</td>\n",
       "    </tr>\n",
       "    <tr>\n",
       "      <th>4</th>\n",
       "      <td>57</td>\n",
       "      <td>Male</td>\n",
       "      <td>1.364023</td>\n",
       "      <td>0.100000</td>\n",
       "      <td>239</td>\n",
       "      <td>33</td>\n",
       "      <td>135</td>\n",
       "      <td>6.530005</td>\n",
       "      <td>3.600876</td>\n",
       "      <td>1.088464</td>\n",
       "      <td>1</td>\n",
       "      <td>4</td>\n",
       "      <td>Yes</td>\n",
       "    </tr>\n",
       "    <tr>\n",
       "      <th>...</th>\n",
       "      <td>...</td>\n",
       "      <td>...</td>\n",
       "      <td>...</td>\n",
       "      <td>...</td>\n",
       "      <td>...</td>\n",
       "      <td>...</td>\n",
       "      <td>...</td>\n",
       "      <td>...</td>\n",
       "      <td>...</td>\n",
       "      <td>...</td>\n",
       "      <td>...</td>\n",
       "      <td>...</td>\n",
       "      <td>...</td>\n",
       "    </tr>\n",
       "    <tr>\n",
       "      <th>578</th>\n",
       "      <td>30</td>\n",
       "      <td>Male</td>\n",
       "      <td>19.182317</td>\n",
       "      <td>7.453156</td>\n",
       "      <td>644</td>\n",
       "      <td>10</td>\n",
       "      <td>10</td>\n",
       "      <td>8.080108</td>\n",
       "      <td>3.806403</td>\n",
       "      <td>1.071211</td>\n",
       "      <td>1</td>\n",
       "      <td>578</td>\n",
       "      <td>Yes</td>\n",
       "    </tr>\n",
       "    <tr>\n",
       "      <th>579</th>\n",
       "      <td>54</td>\n",
       "      <td>Male</td>\n",
       "      <td>5.845429</td>\n",
       "      <td>3.453339</td>\n",
       "      <td>63</td>\n",
       "      <td>10</td>\n",
       "      <td>10</td>\n",
       "      <td>4.794235</td>\n",
       "      <td>1.678242</td>\n",
       "      <td>1.001001</td>\n",
       "      <td>1</td>\n",
       "      <td>579</td>\n",
       "      <td>Yes</td>\n",
       "    </tr>\n",
       "    <tr>\n",
       "      <th>580</th>\n",
       "      <td>73</td>\n",
       "      <td>Male</td>\n",
       "      <td>3.915174</td>\n",
       "      <td>3.143086</td>\n",
       "      <td>1051</td>\n",
       "      <td>249</td>\n",
       "      <td>325</td>\n",
       "      <td>5.840546</td>\n",
       "      <td>2.372456</td>\n",
       "      <td>0.521491</td>\n",
       "      <td>1</td>\n",
       "      <td>580</td>\n",
       "      <td>Yes</td>\n",
       "    </tr>\n",
       "    <tr>\n",
       "      <th>581</th>\n",
       "      <td>70</td>\n",
       "      <td>Male</td>\n",
       "      <td>13.338579</td>\n",
       "      <td>5.491447</td>\n",
       "      <td>485</td>\n",
       "      <td>94</td>\n",
       "      <td>53</td>\n",
       "      <td>6.207086</td>\n",
       "      <td>3.729643</td>\n",
       "      <td>1.310537</td>\n",
       "      <td>1</td>\n",
       "      <td>581</td>\n",
       "      <td>Yes</td>\n",
       "    </tr>\n",
       "    <tr>\n",
       "      <th>582</th>\n",
       "      <td>48</td>\n",
       "      <td>Female</td>\n",
       "      <td>0.876084</td>\n",
       "      <td>1.174983</td>\n",
       "      <td>230</td>\n",
       "      <td>261</td>\n",
       "      <td>298</td>\n",
       "      <td>6.973550</td>\n",
       "      <td>4.099931</td>\n",
       "      <td>1.454532</td>\n",
       "      <td>1</td>\n",
       "      <td>582</td>\n",
       "      <td>Yes</td>\n",
       "    </tr>\n",
       "  </tbody>\n",
       "</table>\n",
       "<p>583 rows × 13 columns</p>\n",
       "</div>"
      ],
      "text/plain": [
       "     age  gender  total_bilirubin  ...  dataset   id  liver_disease\n",
       "0     38    Male        10.115695  ...        1    0            Yes\n",
       "1     44    Male         7.901972  ...        1    1            Yes\n",
       "2     68    Male        17.550092  ...        1    2            Yes\n",
       "3     69    Male         0.400000  ...        1    3            Yes\n",
       "4     57    Male         1.364023  ...        1    4            Yes\n",
       "..   ...     ...              ...  ...      ...  ...            ...\n",
       "578   30    Male        19.182317  ...        1  578            Yes\n",
       "579   54    Male         5.845429  ...        1  579            Yes\n",
       "580   73    Male         3.915174  ...        1  580            Yes\n",
       "581   70    Male        13.338579  ...        1  581            Yes\n",
       "582   48  Female         0.876084  ...        1  582            Yes\n",
       "\n",
       "[583 rows x 13 columns]"
      ]
     },
     "execution_count": 268,
     "metadata": {},
     "output_type": "execute_result"
    }
   ],
   "source": [
    "from sdv.lite import SingleTablePreset\n",
    "from sdv.metadata import SingleTableMetadata\n",
    "\n",
    "\n",
    "metadata = SingleTableMetadata()\n",
    "metadata.detect_from_dataframe(patient_data)\n",
    "\n",
    "data_generator = SingleTablePreset(metadata, name=\"FAST_ML\")\n",
    "data_generator.fit(data=patient_data)\n",
    "\n",
    "synthetic_data = data_generator.sample(num_rows=len(patient_data))\n",
    "synthetic_data"
   ]
  },
  {
   "cell_type": "markdown",
   "metadata": {},
   "source": [
    "## Generating Tabular Data\n",
    "\n",
    "Let's start generating data for a single column, `age`, in a differentially private way. First, we represent the column as a histogram:"
   ]
  },
  {
   "cell_type": "code",
   "execution_count": 269,
   "metadata": {},
   "outputs": [
    {
     "data": {
      "text/plain": [
       "<Axes: xlabel='age'>"
      ]
     },
     "execution_count": 269,
     "metadata": {},
     "output_type": "execute_result"
    },
    {
     "data": {
      "image/png": "[encoded data removed]",
      "text/plain": [
       "<Figure size 2000x1000 with 1 Axes>"
      ]
     },
     "metadata": {},
     "output_type": "display_data"
    }
   ],
   "source": [
    "bin_limits: list[int] = list(range(0, 100))\n",
    "\n",
    "patients_by_bin = healthcare_demo.group_by_bins(patient_data, \"age\", bin_limits)\n",
    "age_counts_by_bin: pd.DataFrame = patients_by_bin.count()[\"age\"]\n",
    "\n",
    "age_counts_by_bin.plot.bar(figsize=(20, 10))"
   ]
  },
  {
   "cell_type": "markdown",
   "metadata": {},
   "source": [
    "Now, we make our histogram representation differentially private, by adding Laplace noise and normalising:"
   ]
  },
  {
   "cell_type": "code",
   "execution_count": 270,
   "metadata": {},
   "outputs": [
    {
     "data": {
      "text/plain": [
       "age\n",
       "(0, 1]      0.011587\n",
       "(1, 2]      0.000000\n",
       "(2, 3]      0.000000\n",
       "(3, 4]      0.012334\n",
       "(4, 5]      0.000000\n",
       "              ...   \n",
       "(94, 95]    0.006292\n",
       "(95, 96]    0.006381\n",
       "(96, 97]    0.004062\n",
       "(97, 98]    0.000000\n",
       "(98, 99]    0.000000\n",
       "Name: age, Length: 99, dtype: float64"
      ]
     },
     "execution_count": 270,
     "metadata": {},
     "output_type": "execute_result"
    },
    {
     "data": {
      "image/png": "[encoded data removed]",
      "text/plain": [
       "<Figure size 2000x1000 with 1 Axes>"
      ]
     },
     "metadata": {},
     "output_type": "display_data"
    }
   ],
   "source": [
    "age_counts_by_bin_laplace: pd.Series = age_counts_by_bin.apply(\n",
    "    lambda age_count: age_count\n",
    "    + healthcare_demo.get_noise_using_laplace(count_sensitivity, privacy_budget)\n",
    ")\n",
    "age_counts_by_bin_laplace = age_counts_by_bin_laplace.clip(lower=0)\n",
    "\n",
    "total_count: float = age_counts_by_bin_laplace.sum()\n",
    "normalized_age_counts_by_bin: pd.Series = age_counts_by_bin_laplace.apply(\n",
    "    lambda age_count: age_count / total_count\n",
    ")\n",
    "\n",
    "normalized_age_counts_by_bin.plot.bar(figsize=(20, 10))\n",
    "normalized_age_counts_by_bin"
   ]
  },
  {
   "cell_type": "markdown",
   "metadata": {},
   "source": [
    "Note the normalised plot and the original plot look similar. Now, its time to generate a synthetic dataset:"
   ]
  },
  {
   "cell_type": "code",
   "execution_count": 278,
   "metadata": {},
   "outputs": [
    {
     "data": {
      "text/plain": [
       "<Axes: xlabel='age'>"
      ]
     },
     "execution_count": 278,
     "metadata": {},
     "output_type": "execute_result"
    },
    {
     "data": {
      "image/png": "[encoded data removed]",
      "text/plain": [
       "<Figure size 2000x1000 with 1 Axes>"
      ]
     },
     "metadata": {},
     "output_type": "display_data"
    }
   ],
   "source": [
    "samples: int = len(patient_data) + healthcare_demo.get_noise_using_laplace(\n",
    "    count_sensitivity, privacy_budget\n",
    ")\n",
    "probabilities: np.ndarray = normalized_age_counts_by_bin.values\n",
    "\n",
    "bin_edges: list[str] = bin_values[1:]  # The intervals are right-inclusive.\n",
    "\n",
    "synthetic_patients: pd.DataFrame = pd.DataFrame(\n",
    "    healthcare_demo.generate_samples(int(samples), bin_edges, probabilities),\n",
    "    columns=[\"age\"],\n",
    ")\n",
    "\n",
    "healthcare_demo.group_by_bins(synthetic_patients, \"age\", bin_limits).count()[\"age\"].plot.bar(figsize=(20, 10))\n"
   ]
  },
  {
   "cell_type": "markdown",
   "metadata": {},
   "source": [
    "Let's gather some metrics, and compare them over the two datasets:"
   ]
  },
  {
   "cell_type": "code",
   "execution_count": 279,
   "metadata": {},
   "outputs": [
    {
     "name": "stdout",
     "output_type": "stream",
     "text": [
      "Real patients: 583\n",
      "Synthetic samples: 544\n",
      "Mean age in real data: 44.74614065180103\n",
      "Mean age in synthetic sample: 41.75\n",
      "Patients in range in real data: 412\n",
      "Patients in range in synthetic data: 351\n"
     ]
    }
   ],
   "source": [
    "print(f\"Real patients: {len(patient_data)}\")\n",
    "print(f'Synthetic samples: {len(synthetic_patients)}')\n",
    "print(f\"Mean age in real data: {patient_data['age'].mean()}\")\n",
    "print(f\"Mean age in synthetic sample: {synthetic_patients['age'].mean()}\")\n",
    "\n",
    "range_minimum: int = 20\n",
    "range_maximum: int = 60\n",
    "\n",
    "print(\n",
    "    f\"Patients in range in real data: {healthcare_demo.query_patients_by_range('age', range_minimum, range_maximum, patient_data)}\"\n",
    ")\n",
    "\n",
    "print(\n",
    "    f\"Patients in range in synthetic data: {healthcare_demo.query_patients_by_range('age', range_minimum, range_maximum, synthetic_patients)}\"\n",
    ")"
   ]
  },
  {
   "cell_type": "markdown",
   "metadata": {},
   "source": [
    "## SQLSynthGen\n",
    "\n",
    "`SQLSynthGen` is a tool for synthetic data generation in tabular format. First, let's create a replica of our `indian_liver_patient` table at the `db` database"
   ]
  },
  {
   "cell_type": "code",
   "execution_count": 272,
   "metadata": {},
   "outputs": [
    {
     "name": "stdout",
     "output_type": "stream",
     "text": [
      "env: SRC_DSN='postgresql://postgres@localhost/db'\n",
      "env: DST_DSN='postgresql://postgres@localhost/db_replica'\n",
      "Traceback (most recent call last):\n",
      "  File \"/opt/conda/bin/sqlsynthgen\", line 5, in <module>\n",
      "    from sqlsynthgen.main import app\n",
      "  File \"/opt/conda/lib/python3.10/site-packages/sqlsynthgen/main.py\", line 16, in <module>\n",
      "    from sqlsynthgen.make import make_src_stats, make_table_generators, make_tables_file\n",
      "  File \"/opt/conda/lib/python3.10/site-packages/sqlsynthgen/make.py\", line 11, in <module>\n",
      "    import snsql\n",
      "  File \"/opt/conda/lib/python3.10/site-packages/snsql/__init__.py\", line 1, in <module>\n",
      "    from .connect import from_connection, from_df\n",
      "  File \"/opt/conda/lib/python3.10/site-packages/snsql/connect.py\", line 1, in <module>\n",
      "    from .sql.private_reader import PrivateReader\n",
      "  File \"/opt/conda/lib/python3.10/site-packages/snsql/sql/__init__.py\", line 1, in <module>\n",
      "    from .private_reader import PrivateReader\n",
      "  File \"/opt/conda/lib/python3.10/site-packages/snsql/sql/private_reader.py\", line 6, in <module>\n",
      "    from snsql.sql.odometer import OdometerHeterogeneous\n",
      "  File \"/opt/conda/lib/python3.10/site-packages/snsql/sql/odometer.py\", line 2, in <module>\n",
      "    from snsql.sql.privacy import Privacy\n",
      "  File \"/opt/conda/lib/python3.10/site-packages/snsql/sql/privacy.py\", line 2, in <module>\n",
      "    from ._mechanisms import *\n",
      "  File \"/opt/conda/lib/python3.10/site-packages/snsql/sql/_mechanisms/__init__.py\", line 1, in <module>\n",
      "    from .laplace import Laplace\n",
      "  File \"/opt/conda/lib/python3.10/site-packages/snsql/sql/_mechanisms/laplace.py\", line 3, in <module>\n",
      "    from opendp.transformations import make_bounded_sum, make_clamp\n",
      "  File \"/opt/conda/lib/python3.10/site-packages/opendp/__init__.py\", line 1, in <module>\n",
      "    from opendp.mod import Transformation, Measurement, OpenDPException, UnknownTypeException\n",
      "  File \"/opt/conda/lib/python3.10/site-packages/opendp/mod.py\", line 4, in <module>\n",
      "    from opendp._lib import AnyMeasurement, AnyTransformation, AnyDomain, AnyMetric, AnyMeasure, AnyFunction\n",
      "  File \"/opt/conda/lib/python3.10/site-packages/opendp/_lib.py\", line 33, in <module>\n",
      "    lib = ctypes.cdll.LoadLibrary(os.path.join(lib_dir, lib_name))\n",
      "  File \"/opt/conda/lib/python3.10/ctypes/__init__.py\", line 452, in LoadLibrary\n",
      "    return self._dlltype(name)\n",
      "  File \"/opt/conda/lib/python3.10/ctypes/__init__.py\", line 374, in __init__\n",
      "    self._handle = _dlopen(self._name, mode)\n",
      "OSError: /opt/conda/lib/python3.10/site-packages/opendp/lib/libopendp.so: cannot open shared object file: No such file or directory\n",
      "Traceback (most recent call last):\n",
      "  File \"/opt/conda/bin/sqlsynthgen\", line 5, in <module>\n",
      "    from sqlsynthgen.main import app\n",
      "  File \"/opt/conda/lib/python3.10/site-packages/sqlsynthgen/main.py\", line 16, in <module>\n",
      "    from sqlsynthgen.make import make_src_stats, make_table_generators, make_tables_file\n",
      "  File \"/opt/conda/lib/python3.10/site-packages/sqlsynthgen/make.py\", line 11, in <module>\n",
      "    import snsql\n",
      "  File \"/opt/conda/lib/python3.10/site-packages/snsql/__init__.py\", line 1, in <module>\n",
      "    from .connect import from_connection, from_df\n",
      "  File \"/opt/conda/lib/python3.10/site-packages/snsql/connect.py\", line 1, in <module>\n",
      "    from .sql.private_reader import PrivateReader\n",
      "  File \"/opt/conda/lib/python3.10/site-packages/snsql/sql/__init__.py\", line 1, in <module>\n",
      "    from .private_reader import PrivateReader\n",
      "  File \"/opt/conda/lib/python3.10/site-packages/snsql/sql/private_reader.py\", line 6, in <module>\n",
      "    from snsql.sql.odometer import OdometerHeterogeneous\n",
      "  File \"/opt/conda/lib/python3.10/site-packages/snsql/sql/odometer.py\", line 2, in <module>\n",
      "    from snsql.sql.privacy import Privacy\n",
      "  File \"/opt/conda/lib/python3.10/site-packages/snsql/sql/privacy.py\", line 2, in <module>\n",
      "    from ._mechanisms import *\n",
      "  File \"/opt/conda/lib/python3.10/site-packages/snsql/sql/_mechanisms/__init__.py\", line 1, in <module>\n",
      "    from .laplace import Laplace\n",
      "  File \"/opt/conda/lib/python3.10/site-packages/snsql/sql/_mechanisms/laplace.py\", line 3, in <module>\n",
      "    from opendp.transformations import make_bounded_sum, make_clamp\n",
      "  File \"/opt/conda/lib/python3.10/site-packages/opendp/__init__.py\", line 1, in <module>\n",
      "    from opendp.mod import Transformation, Measurement, OpenDPException, UnknownTypeException\n",
      "  File \"/opt/conda/lib/python3.10/site-packages/opendp/mod.py\", line 4, in <module>\n",
      "    from opendp._lib import AnyMeasurement, AnyTransformation, AnyDomain, AnyMetric, AnyMeasure, AnyFunction\n",
      "  File \"/opt/conda/lib/python3.10/site-packages/opendp/_lib.py\", line 33, in <module>\n",
      "    lib = ctypes.cdll.LoadLibrary(os.path.join(lib_dir, lib_name))\n",
      "  File \"/opt/conda/lib/python3.10/ctypes/__init__.py\", line 452, in LoadLibrary\n",
      "    return self._dlltype(name)\n",
      "  File \"/opt/conda/lib/python3.10/ctypes/__init__.py\", line 374, in __init__\n",
      "    self._handle = _dlopen(self._name, mode)\n",
      "OSError: /opt/conda/lib/python3.10/site-packages/opendp/lib/libopendp.so: cannot open shared object file: No such file or directory\n"
     ]
    }
   ],
   "source": [
    "\n",
    "%env SRC_DSN='postgresql://postgres@localhost/db'\n",
    "%env DST_DSN='postgresql://postgres@localhost/db_replica'\n",
    "\n",
    "!sqlsynthgen make-tables\n",
    "!sqlsynthgen create-tables"
   ]
  },
  {
   "cell_type": "markdown",
   "metadata": {},
   "source": [
    "The `indian_liver_patient` table should now be available in the `db_replica` database. However, it is now empty:"
   ]
  },
  {
   "cell_type": "code",
   "execution_count": null,
   "metadata": {},
   "outputs": [],
   "source": []
  },
  {
   "cell_type": "code",
   "execution_count": 273,
   "metadata": {},
   "outputs": [
    {
     "name": "stdout",
     "output_type": "stream",
     "text": [
      "72\n",
      "age\n",
      "60    34\n",
      "45    25\n",
      "50    23\n",
      "42    21\n",
      "38    21\n",
      "32    20\n",
      "48    20\n",
      "55    18\n",
      "65    17\n",
      "40    17\n",
      "46    16\n",
      "33    15\n",
      "58    14\n",
      "75    14\n",
      "26    14\n",
      "35    12\n",
      "66    12\n",
      "18    11\n",
      "49    11\n",
      "36    11\n",
      "51    10\n",
      "30    10\n",
      "62     9\n",
      "70     9\n",
      "22     9\n",
      "37     9\n",
      "34     8\n",
      "28     8\n",
      "72     8\n",
      "31     8\n",
      "54     8\n",
      "52     7\n",
      "57     7\n",
      "21     7\n",
      "29     7\n",
      "53     6\n",
      "39     6\n",
      "27     6\n",
      "64     6\n",
      "47     6\n",
      "41     5\n",
      "61     5\n",
      "24     5\n",
      "25     5\n",
      "17     5\n",
      "56     4\n",
      "43     4\n",
      "13     4\n",
      "68     4\n",
      "74     4\n",
      "16     3\n",
      "44     3\n",
      "23     3\n",
      "20     3\n",
      "63     2\n",
      "14     2\n",
      "73     2\n",
      "69     2\n",
      "12     2\n",
      "4      2\n",
      "7      2\n",
      "19     2\n",
      "6      1\n",
      "8      1\n",
      "84     1\n",
      "85     1\n",
      "15     1\n",
      "78     1\n",
      "11     1\n",
      "67     1\n",
      "10     1\n",
      "90     1\n",
      "Name: count, dtype: int64\n"
     ]
    }
   ],
   "source": [
    "print(len(patient_data[\"age\"].value_counts()))\n",
    "\n",
    "with pd.option_context('display.max_rows', None):\n",
    "    print(patient_data[\"age\"].value_counts())"
   ]
  },
  {
   "cell_type": "code",
   "execution_count": 274,
   "metadata": {},
   "outputs": [
    {
     "ename": "NameError",
     "evalue": "name 'query_dataframe' is not defined",
     "output_type": "error",
     "traceback": [
      "\u001b[0;31m---------------------------------------------------------------------------\u001b[0m",
      "\u001b[0;31mNameError\u001b[0m                                 Traceback (most recent call last)",
      "\u001b[1;32m/workspaces/sqlsynthgen-health-demo/ipynb/sqlsynthgen-healthcare-demo.ipynb Cell 58\u001b[0m line \u001b[0;36m4\n\u001b[1;32m      <a href='vscode-notebook-cell://dev-container%2B7b22686f737450617468223a222f55736572732f63676176696469612d63616c6465726f6e2f446f63756d656e74732f4769744875622f73716c73796e746867656e2d6865616c74682d64656d6f222c226c6f63616c446f636b6572223a66616c73652c2273657474696e6773223a7b22636f6e74657874223a226465736b746f702d6c696e7578227d2c22636f6e66696746696c65223a7b22246d6964223a312c22667350617468223a222f55736572732f63676176696469612d63616c6465726f6e2f446f63756d656e74732f4769744875622f73716c73796e746867656e2d6865616c74682d64656d6f2f2e646576636f6e7461696e65722f646576636f6e7461696e65722e6a736f6e222c2265787465726e616c223a2266696c653a2f2f2f55736572732f63676176696469612d63616c6465726f6e2f446f63756d656e74732f4769744875622f73716c73796e746867656e2d6865616c74682d64656d6f2f2e646576636f6e7461696e65722f646576636f6e7461696e65722e6a736f6e222c2270617468223a222f55736572732f63676176696469612d63616c6465726f6e2f446f63756d656e74732f4769744875622f73716c73796e746867656e2d6865616c74682d64656d6f2f2e646576636f6e7461696e65722f646576636f6e7461696e65722e6a736f6e222c22736368656d65223a2266696c65227d7d/workspaces/sqlsynthgen-health-demo/ipynb/sqlsynthgen-healthcare-demo.ipynb#X55sdnNjb2RlLXJlbW90ZQ%3D%3D?line=0'>1</a>\u001b[0m \u001b[39mwith\u001b[39;00m pd\u001b[39m.\u001b[39moption_context(\u001b[39m'\u001b[39m\u001b[39mdisplay.max_rows\u001b[39m\u001b[39m'\u001b[39m, \u001b[39mNone\u001b[39;00m,\n\u001b[1;32m      <a href='vscode-notebook-cell://dev-container%2B7b22686f737450617468223a222f55736572732f63676176696469612d63616c6465726f6e2f446f63756d656e74732f4769744875622f73716c73796e746867656e2d6865616c74682d64656d6f222c226c6f63616c446f636b6572223a66616c73652c2273657474696e6773223a7b22636f6e74657874223a226465736b746f702d6c696e7578227d2c22636f6e66696746696c65223a7b22246d6964223a312c22667350617468223a222f55736572732f63676176696469612d63616c6465726f6e2f446f63756d656e74732f4769744875622f73716c73796e746867656e2d6865616c74682d64656d6f2f2e646576636f6e7461696e65722f646576636f6e7461696e65722e6a736f6e222c2265787465726e616c223a2266696c653a2f2f2f55736572732f63676176696469612d63616c6465726f6e2f446f63756d656e74732f4769744875622f73716c73796e746867656e2d6865616c74682d64656d6f2f2e646576636f6e7461696e65722f646576636f6e7461696e65722e6a736f6e222c2270617468223a222f55736572732f63676176696469612d63616c6465726f6e2f446f63756d656e74732f4769744875622f73716c73796e746867656e2d6865616c74682d64656d6f2f2e646576636f6e7461696e65722f646576636f6e7461696e65722e6a736f6e222c22736368656d65223a2266696c65227d7d/workspaces/sqlsynthgen-health-demo/ipynb/sqlsynthgen-healthcare-demo.ipynb#X55sdnNjb2RlLXJlbW90ZQ%3D%3D?line=1'>2</a>\u001b[0m                        \u001b[39m'\u001b[39m\u001b[39mdisplay.max_columns\u001b[39m\u001b[39m'\u001b[39m, \u001b[39mNone\u001b[39;00m,\n\u001b[1;32m      <a href='vscode-notebook-cell://dev-container%2B7b22686f737450617468223a222f55736572732f63676176696469612d63616c6465726f6e2f446f63756d656e74732f4769744875622f73716c73796e746867656e2d6865616c74682d64656d6f222c226c6f63616c446f636b6572223a66616c73652c2273657474696e6773223a7b22636f6e74657874223a226465736b746f702d6c696e7578227d2c22636f6e66696746696c65223a7b22246d6964223a312c22667350617468223a222f55736572732f63676176696469612d63616c6465726f6e2f446f63756d656e74732f4769744875622f73716c73796e746867656e2d6865616c74682d64656d6f2f2e646576636f6e7461696e65722f646576636f6e7461696e65722e6a736f6e222c2265787465726e616c223a2266696c653a2f2f2f55736572732f63676176696469612d63616c6465726f6e2f446f63756d656e74732f4769744875622f73716c73796e746867656e2d6865616c74682d64656d6f2f2e646576636f6e7461696e65722f646576636f6e7461696e65722e6a736f6e222c2270617468223a222f55736572732f63676176696469612d63616c6465726f6e2f446f63756d656e74732f4769744875622f73716c73796e746867656e2d6865616c74682d64656d6f2f2e646576636f6e7461696e65722f646576636f6e7461696e65722e6a736f6e222c22736368656d65223a2266696c65227d7d/workspaces/sqlsynthgen-health-demo/ipynb/sqlsynthgen-healthcare-demo.ipynb#X55sdnNjb2RlLXJlbW90ZQ%3D%3D?line=2'>3</a>\u001b[0m                        \u001b[39m'\u001b[39m\u001b[39mdisplay.precision\u001b[39m\u001b[39m'\u001b[39m, \u001b[39m3\u001b[39m,):\n\u001b[0;32m----> <a href='vscode-notebook-cell://dev-container%2B7b22686f737450617468223a222f55736572732f63676176696469612d63616c6465726f6e2f446f63756d656e74732f4769744875622f73716c73796e746867656e2d6865616c74682d64656d6f222c226c6f63616c446f636b6572223a66616c73652c2273657474696e6773223a7b22636f6e74657874223a226465736b746f702d6c696e7578227d2c22636f6e66696746696c65223a7b22246d6964223a312c22667350617468223a222f55736572732f63676176696469612d63616c6465726f6e2f446f63756d656e74732f4769744875622f73716c73796e746867656e2d6865616c74682d64656d6f2f2e646576636f6e7461696e65722f646576636f6e7461696e65722e6a736f6e222c2265787465726e616c223a2266696c653a2f2f2f55736572732f63676176696469612d63616c6465726f6e2f446f63756d656e74732f4769744875622f73716c73796e746867656e2d6865616c74682d64656d6f2f2e646576636f6e7461696e65722f646576636f6e7461696e65722e6a736f6e222c2270617468223a222f55736572732f63676176696469612d63616c6465726f6e2f446f63756d656e74732f4769744875622f73716c73796e746867656e2d6865616c74682d64656d6f2f2e646576636f6e7461696e65722f646576636f6e7461696e65722e6a736f6e222c22736368656d65223a2266696c65227d7d/workspaces/sqlsynthgen-health-demo/ipynb/sqlsynthgen-healthcare-demo.ipynb#X55sdnNjb2RlLXJlbW90ZQ%3D%3D?line=3'>4</a>\u001b[0m     \u001b[39mprint\u001b[39m(query_dataframe[[\u001b[39m\"\u001b[39m\u001b[39mage\u001b[39m\u001b[39m\"\u001b[39m, \u001b[39m\"\u001b[39m\u001b[39mgender\u001b[39m\u001b[39m\"\u001b[39m]]\u001b[39m.\u001b[39mvalue_counts())\n",
      "\u001b[0;31mNameError\u001b[0m: name 'query_dataframe' is not defined"
     ]
    }
   ],
   "source": [
    "with pd.option_context('display.max_rows', None,\n",
    "                       'display.max_columns', None,\n",
    "                       'display.precision', 3,):\n",
    "    print(query_dataframe[[\"age\", \"gender\"]].value_counts())"
   ]
  },
  {
   "cell_type": "markdown",
   "metadata": {},
   "source": [
    "**10** people are identifiable by their age. We can see this better in a plot:"
   ]
  },
  {
   "cell_type": "code",
   "execution_count": null,
   "metadata": {},
   "outputs": [
    {
     "ename": "NameError",
     "evalue": "name 'query_dataframe' is not defined",
     "output_type": "error",
     "traceback": [
      "\u001b[0;31m---------------------------------------------------------------------------\u001b[0m",
      "\u001b[0;31mNameError\u001b[0m                                 Traceback (most recent call last)",
      "\u001b[1;32m/workspaces/sqlsynthgen-health-demo/ipynb/sqlsynthgen-healthcare-demo.ipynb Cell 45\u001b[0m line \u001b[0;36m4\n\u001b[1;32m      <a href='vscode-notebook-cell://dev-container%2B7b22686f737450617468223a222f55736572732f63676176696469612d63616c6465726f6e2f446f63756d656e74732f4769744875622f73716c73796e746867656e2d6865616c74682d64656d6f222c226c6f63616c446f636b6572223a66616c73652c2273657474696e6773223a7b22636f6e74657874223a226465736b746f702d6c696e7578227d2c22636f6e66696746696c65223a7b22246d6964223a312c22667350617468223a222f55736572732f63676176696469612d63616c6465726f6e2f446f63756d656e74732f4769744875622f73716c73796e746867656e2d6865616c74682d64656d6f2f2e646576636f6e7461696e65722f646576636f6e7461696e65722e6a736f6e222c2265787465726e616c223a2266696c653a2f2f2f55736572732f63676176696469612d63616c6465726f6e2f446f63756d656e74732f4769744875622f73716c73796e746867656e2d6865616c74682d64656d6f2f2e646576636f6e7461696e65722f646576636f6e7461696e65722e6a736f6e222c2270617468223a222f55736572732f63676176696469612d63616c6465726f6e2f446f63756d656e74732f4769744875622f73716c73796e746867656e2d6865616c74682d64656d6f2f2e646576636f6e7461696e65722f646576636f6e7461696e65722e6a736f6e222c22736368656d65223a2266696c65227d7d/workspaces/sqlsynthgen-health-demo/ipynb/sqlsynthgen-healthcare-demo.ipynb#X60sdnNjb2RlLXJlbW90ZQ%3D%3D?line=0'>1</a>\u001b[0m \u001b[39mwith\u001b[39;00m pd\u001b[39m.\u001b[39moption_context(\u001b[39m'\u001b[39m\u001b[39mdisplay.max_rows\u001b[39m\u001b[39m'\u001b[39m, \u001b[39mNone\u001b[39;00m,\n\u001b[1;32m      <a href='vscode-notebook-cell://dev-container%2B7b22686f737450617468223a222f55736572732f63676176696469612d63616c6465726f6e2f446f63756d656e74732f4769744875622f73716c73796e746867656e2d6865616c74682d64656d6f222c226c6f63616c446f636b6572223a66616c73652c2273657474696e6773223a7b22636f6e74657874223a226465736b746f702d6c696e7578227d2c22636f6e66696746696c65223a7b22246d6964223a312c22667350617468223a222f55736572732f63676176696469612d63616c6465726f6e2f446f63756d656e74732f4769744875622f73716c73796e746867656e2d6865616c74682d64656d6f2f2e646576636f6e7461696e65722f646576636f6e7461696e65722e6a736f6e222c2265787465726e616c223a2266696c653a2f2f2f55736572732f63676176696469612d63616c6465726f6e2f446f63756d656e74732f4769744875622f73716c73796e746867656e2d6865616c74682d64656d6f2f2e646576636f6e7461696e65722f646576636f6e7461696e65722e6a736f6e222c2270617468223a222f55736572732f63676176696469612d63616c6465726f6e2f446f63756d656e74732f4769744875622f73716c73796e746867656e2d6865616c74682d64656d6f2f2e646576636f6e7461696e65722f646576636f6e7461696e65722e6a736f6e222c22736368656d65223a2266696c65227d7d/workspaces/sqlsynthgen-health-demo/ipynb/sqlsynthgen-healthcare-demo.ipynb#X60sdnNjb2RlLXJlbW90ZQ%3D%3D?line=1'>2</a>\u001b[0m                        \u001b[39m'\u001b[39m\u001b[39mdisplay.max_columns\u001b[39m\u001b[39m'\u001b[39m, \u001b[39mNone\u001b[39;00m,\n\u001b[1;32m      <a href='vscode-notebook-cell://dev-container%2B7b22686f737450617468223a222f55736572732f63676176696469612d63616c6465726f6e2f446f63756d656e74732f4769744875622f73716c73796e746867656e2d6865616c74682d64656d6f222c226c6f63616c446f636b6572223a66616c73652c2273657474696e6773223a7b22636f6e74657874223a226465736b746f702d6c696e7578227d2c22636f6e66696746696c65223a7b22246d6964223a312c22667350617468223a222f55736572732f63676176696469612d63616c6465726f6e2f446f63756d656e74732f4769744875622f73716c73796e746867656e2d6865616c74682d64656d6f2f2e646576636f6e7461696e65722f646576636f6e7461696e65722e6a736f6e222c2265787465726e616c223a2266696c653a2f2f2f55736572732f63676176696469612d63616c6465726f6e2f446f63756d656e74732f4769744875622f73716c73796e746867656e2d6865616c74682d64656d6f2f2e646576636f6e7461696e65722f646576636f6e7461696e65722e6a736f6e222c2270617468223a222f55736572732f63676176696469612d63616c6465726f6e2f446f63756d656e74732f4769744875622f73716c73796e746867656e2d6865616c74682d64656d6f2f2e646576636f6e7461696e65722f646576636f6e7461696e65722e6a736f6e222c22736368656d65223a2266696c65227d7d/workspaces/sqlsynthgen-health-demo/ipynb/sqlsynthgen-healthcare-demo.ipynb#X60sdnNjb2RlLXJlbW90ZQ%3D%3D?line=2'>3</a>\u001b[0m                        \u001b[39m'\u001b[39m\u001b[39mdisplay.precision\u001b[39m\u001b[39m'\u001b[39m, \u001b[39m3\u001b[39m,):\n\u001b[0;32m----> <a href='vscode-notebook-cell://dev-container%2B7b22686f737450617468223a222f55736572732f63676176696469612d63616c6465726f6e2f446f63756d656e74732f4769744875622f73716c73796e746867656e2d6865616c74682d64656d6f222c226c6f63616c446f636b6572223a66616c73652c2273657474696e6773223a7b22636f6e74657874223a226465736b746f702d6c696e7578227d2c22636f6e66696746696c65223a7b22246d6964223a312c22667350617468223a222f55736572732f63676176696469612d63616c6465726f6e2f446f63756d656e74732f4769744875622f73716c73796e746867656e2d6865616c74682d64656d6f2f2e646576636f6e7461696e65722f646576636f6e7461696e65722e6a736f6e222c2265787465726e616c223a2266696c653a2f2f2f55736572732f63676176696469612d63616c6465726f6e2f446f63756d656e74732f4769744875622f73716c73796e746867656e2d6865616c74682d64656d6f2f2e646576636f6e7461696e65722f646576636f6e7461696e65722e6a736f6e222c2270617468223a222f55736572732f63676176696469612d63616c6465726f6e2f446f63756d656e74732f4769744875622f73716c73796e746867656e2d6865616c74682d64656d6f2f2e646576636f6e7461696e65722f646576636f6e7461696e65722e6a736f6e222c22736368656d65223a2266696c65227d7d/workspaces/sqlsynthgen-health-demo/ipynb/sqlsynthgen-healthcare-demo.ipynb#X60sdnNjb2RlLXJlbW90ZQ%3D%3D?line=3'>4</a>\u001b[0m     \u001b[39mprint\u001b[39m(query_dataframe[\u001b[39m\"\u001b[39m\u001b[39mage\u001b[39m\u001b[39m\"\u001b[39m]\u001b[39m.\u001b[39mvalue_counts())\n",
      "\u001b[0;31mNameError\u001b[0m: name 'query_dataframe' is not defined"
     ]
    }
   ],
   "source": [
    "with pd.option_context('display.max_rows', None,\n",
    "                       'display.max_columns', None,\n",
    "                       'display.precision', 3,):\n",
    "    print(query_dataframe[\"age\"].value_counts())"
   ]
  },
  {
   "cell_type": "markdown",
   "metadata": {},
   "source": [
    "We see 10 people have 51 years, but only 1 is female"
   ]
  },
  {
   "cell_type": "markdown",
   "metadata": {},
   "source": []
  }
 ],
 "metadata": {
  "kernelspec": {
   "display_name": "base",
   "language": "python",
   "name": "python3"
  },
  "language_info": {
   "codemirror_mode": {
    "name": "ipython",
    "version": 3
   },
   "file_extension": ".py",
   "mimetype": "text/x-python",
   "name": "python",
   "nbconvert_exporter": "python",
   "pygments_lexer": "ipython3",
   "version": "3.10.11"
  }
 },
 "nbformat": 4,
 "nbformat_minor": 2
}
